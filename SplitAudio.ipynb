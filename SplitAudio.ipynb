{
 "cells": [
  {
   "cell_type": "markdown",
   "metadata": {},
   "source": [
    "pip install pydub"
   ]
  },
  {
   "cell_type": "code",
   "execution_count": 1,
   "metadata": {
    "collapsed": true
   },
   "outputs": [],
   "source": [
    "import os\n",
    "from pydub import AudioSegment\n",
    "import sys"
   ]
  },
  {
   "cell_type": "markdown",
   "metadata": {},
   "source": [
    "### This method creates the little 3 (or something else) seconds splits of the big file"
   ]
  },
  {
   "cell_type": "code",
   "execution_count": 2,
   "metadata": {
    "collapsed": true
   },
   "outputs": [],
   "source": [
    "def splitAudio(path, file, filename, split_folder, split_interval,):\n",
    "    # set the begin time of the file\n",
    "    timeBegin = 0.0\n",
    "    # set the end time of the file\n",
    "    timeEnd = split_interval * 1000\n",
    "    # set the iterations for the filename\n",
    "    iteration = 1\n",
    "    # load the song\n",
    "    call = AudioSegment.from_mp3(path + file)\n",
    "    # loop over the file length\n",
    "    # as long as the begin time is smaller than the length of the file\n",
    "    while(timeBegin < len(call)):\n",
    "        sys.stdout.write(\"\\r\" + file + \" Iteration: \" + str(iteration))\n",
    "        sys.stdout.flush()\n",
    "        # create a little segment of the file\n",
    "        segment = call[timeBegin:timeEnd]\n",
    "        # export this segment to a new file\n",
    "        segment.export(split_folder + filename + \"_\" + str(iteration) + \".mp3\", format=\"mp3\")\n",
    "        # increase begin and end time, and interation for the next file\n",
    "        timeBegin += (split_interval * 1000)\n",
    "        timeEnd += (split_interval * 1000)\n",
    "        iteration += 1\n",
    "    print(\" - Done\")"
   ]
  },
  {
   "cell_type": "markdown",
   "metadata": {},
   "source": [
    "### state the base directory where all the mp3 files are located and loop over them\n",
    "set here the seconds split"
   ]
  },
  {
   "cell_type": "code",
   "execution_count": 3,
   "metadata": {
    "scrolled": false
   },
   "outputs": [
    {
     "name": "stdout",
     "output_type": "stream",
     "text": [
      "BTq114call.mp3 Iteration: 541 - Done\n",
      "BTq114qna.mp3 Iteration: 897 - Done\n",
      "BTq118qna.mp3 Iteration: 1076 - Done\n",
      "BTq413qna.mp3 Iteration: 612 - Done\n",
      "BTq313call.mp3 Iteration: 472 - Done\n",
      "BTq317qna.mp3 Iteration: 930 - Done\n",
      "BTq218call.mp3 Iteration: 656 - Done\n",
      "BTq312call.mp3 Iteration: 385 - Done\n",
      "BTq215qna.mp3 Iteration: 707 - Done\n",
      "BTq315qna.mp3 Iteration: 967 - Done\n",
      "BTq115call.mp3 Iteration: 535 - Done\n",
      "BTq116qna.mp3 Iteration: 737 - Done\n",
      "BTq412call.mp3 Iteration: 901 - Done\n",
      "BTq415qna.mp3 Iteration: 939 - Done\n",
      "Btq213call.mp3 Iteration: 847 - Done\n",
      "BTq117call.mp3 Iteration: 519 - Done\n",
      "BTq112qna.mp3 Iteration: 966 - Done\n",
      "BTq212call.mp3 Iteration: 605 - Done\n",
      "BTq116call.mp3 Iteration: 500 - Done\n",
      "Btq213qna.mp3 Iteration: 740 - Done\n",
      "BTq313qna.mp3 Iteration: 983 - Done\n",
      "BTq413call.mp3 Iteration: 1169 - Done\n",
      "BTq417qna.mp3 Iteration: 985 - Done\n",
      "btq416call.mp3 Iteration: 1150 - Done\n",
      "BTq316qna.mp3 Iteration: 806 - Done\n",
      "BTq216qna.mp3 Iteration: 647 - Done\n",
      "BTq314call.mp3 Iteration: 524 - Done\n",
      "BTq412qna.mp3 Iteration: 803 - Done\n",
      "BTq115qna.mp3 Iteration: 918 - Done\n",
      "BTq113call.mp3 Iteration: 586 - Done\n",
      "BTq216call.mp3 Iteration: 695 - Done\n",
      "BTq112call.mp3 Iteration: 388 - Done\n",
      "BTq117qna.mp3 Iteration: 762 - Done\n",
      "BTq417call.mp3 Iteration: 891 - Done\n",
      "BTq314qna.mp3 Iteration: 897 - Done\n",
      "BTq214qna.mp3 Iteration: 596 - Done\n",
      "BTq218qna.mp3 Iteration: 1259 - Done\n",
      "BTq315call.mp3 Iteration: 464 - Done\n",
      "BTq113qna.mp3 Iteration: 975 - Done\n",
      "BTq214call.mp3 Iteration: 695 - Done\n",
      "BTq414qna.mp3 Iteration: 864 - Done\n",
      "BTq415call.mp3 Iteration: 894 - Done\n",
      "BTq317call.mp3 Iteration: 630 - Done\n",
      "btq416qna.mp3 Iteration: 891 - Done\n",
      "BTq414call.mp3 Iteration: 1048 - Done\n",
      "BTq312qna.mp3 Iteration: 855 - Done\n",
      "BTq212qna.mp3 Iteration: 728 - Done\n",
      "BTq316call.mp3 Iteration: 668 - Done\n",
      "BTq118call.mp3 Iteration: 585 - Done\n",
      "BTq215call.mp3 Iteration: 549 - Done\n"
     ]
    }
   ],
   "source": [
    "# state the path of the mp3 files\n",
    "path = 'BT/'\n",
    "# declare the size of the split\n",
    "seconds_split = 3.0\n",
    "# loop over the directory\n",
    "for f in os.listdir(path):\n",
    "    # if the file ends with mp3\n",
    "    if f.endswith(\".mp3\"): \n",
    "        # read the file\n",
    "        file = os.path.basename(f)\n",
    "        # by default remove white spaces from the text file name\n",
    "        filename = (os.path.splitext(file)[0]).lower().replace(\" \", \"\")\n",
    "        \n",
    "        # create the split folder for the small files\n",
    "        split_folder = path + \"/\" + filename + '/' + str(seconds_split) + \"secSplit/\"\n",
    "        if not os.path.exists(split_folder):\n",
    "            os.makedirs(split_folder)\n",
    "        \n",
    "        # call the function to split the audio files\n",
    "        splitAudio(path, file, filename, split_folder, seconds_split)"
   ]
  }
 ],
 "metadata": {
  "kernelspec": {
   "display_name": "Python 3",
   "language": "python",
   "name": "python3"
  },
  "language_info": {
   "codemirror_mode": {
    "name": "ipython",
    "version": 3
   },
   "file_extension": ".py",
   "mimetype": "text/x-python",
   "name": "python",
   "nbconvert_exporter": "python",
   "pygments_lexer": "ipython3",
   "version": "3.6.3"
  }
 },
 "nbformat": 4,
 "nbformat_minor": 2
}
