{
 "cells": [
  {
   "cell_type": "markdown",
   "metadata": {},
   "source": [
    "pip install pydub"
   ]
  },
  {
   "cell_type": "code",
   "execution_count": 1,
   "metadata": {
    "collapsed": true
   },
   "outputs": [],
   "source": [
    "import os\n",
    "from pydub import AudioSegment\n",
    "import sys"
   ]
  },
  {
   "cell_type": "markdown",
   "metadata": {},
   "source": [
    "### This method creates the little 3 (or something else) seconds splits of the big file"
   ]
  },
  {
   "cell_type": "code",
   "execution_count": 2,
   "metadata": {
    "collapsed": true
   },
   "outputs": [],
   "source": [
    "def splitAudio(path, file, filename, split_folder, split_interval,):\n",
    "    # set the begin time of the file\n",
    "    timeBegin = 0.0\n",
    "    # set the end time of the file\n",
    "    timeEnd = split_interval * 1000\n",
    "    # set the iterations for the filename\n",
    "    iteration = 1\n",
    "    # load the song\n",
    "    call = AudioSegment.from_mp3(path + file)\n",
    "    # loop over the file length\n",
    "    # as long as the begin time is smaller than the length of the file\n",
    "    while(timeBegin < len(call)):\n",
    "        sys.stdout.write(\"\\r\" + file + \" Iteration: \" + str(iteration))\n",
    "        sys.stdout.flush()\n",
    "        # create a little segment of the file\n",
    "        segment = call[timeBegin:timeEnd]\n",
    "        # export this segment to a new file\n",
    "        segment.export(split_folder + filename + \"_\" + str(iteration) + \".mp3\", format=\"mp3\")\n",
    "        # increase begin and end time, and interation for the next file\n",
    "        timeBegin += (split_interval * 1000)\n",
    "        timeEnd += (split_interval * 1000)\n",
    "        iteration += 1\n",
    "    print(\" - Done\")"
   ]
  },
  {
   "cell_type": "markdown",
   "metadata": {},
   "source": [
    "### state the base directory where all the mp3 files are located and loop over them\n",
    "set here the seconds split"
   ]
  },
  {
   "cell_type": "code",
   "execution_count": 3,
   "metadata": {
    "collapsed": false,
    "scrolled": false
   },
   "outputs": [
    {
     "name": "stdout",
     "output_type": "stream",
     "text": [
      "3DPrinterOS_Disrupt_SF_2016.mp3 Iteration: 229 - Done\n",
      "42_Disrupt_NY_2013.mp3 Iteration: 253 - Done\n",
      "59df0c729e45105de569e2c1_640x360_v2.mp3 Iteration: 261 - Done\n",
      "Abacus_Invest_Battlefield_Africa_2017.mp3 Iteration: 272 - Done\n",
      "AgroCenta_Battlefield_Africa_Winner.mp3 Iteration: 217 - Done\n",
      "Alfred_Disrupt_SF_2014.mp3 Iteration: 334 - Done\n",
      "Amaryllis_Nucleics_Disrupt_SF_2016.mp3 Iteration: 242 - Done\n",
      "AppArchitect_Disrupt_NY_2013.mp3 Iteration: 205 - Done\n",
      "Beam Interactive.mp3 Iteration: 244 - Done\n",
      "Bidzy_Disrupt_NY_2013.mp3 Iteration: 281 - Done\n",
      "Big5_Games_Battlefield_Africa_2017.mp3 Iteration: 245 - Done\n",
      "BlazingDB_Startup_Battlefield_Disrupt_SF_2016.mp3 Iteration: 242 - Done\n",
      "Blik_London_2017_Winner.mp3 Iteration: 281 - Done\n",
      "Blink_Berlin_2017.mp3 Iteration: 281 - Done\n",
      "Bloomlife_Hardware_Battlefield_2017.mp3 Iteration: 296 - Done\n",
      "Boomerang_Commerce_Disrupt_NY_2014.mp3 Iteration: 383 - Done\n",
      "Breinify_Disrupt_SF_2016.mp3 Iteration: 275 - Done\n",
      "Carbon_Health_Disrupt_SF_2016.mp3 Iteration: 255 - Done\n",
      "Cardify_Disrupt_SF_2012.mp3 Iteration: 121 - Done\n",
      "Caspar_Health_Berlin_2017.mp3 Iteration: 238 - Done\n",
      "Collider_Disrupt_NY_2017.mp3 Iteration: 359 - Done\n",
      "Colormass_SF_2017.mp3 Iteration: 264 - Done\n",
      "ConnectMed_Battlefield_Africa_2017.mp3 Iteration: 271 - Done\n",
      "Cota_by_Ossia_Disrupt_SF_2013.mp3 Iteration: 390 - Done\n",
      "Delivery_Science_Battlefield_Africa_2017.mp3 Iteration: 228 - Done\n",
      "Digital_Genius_Disrupt_NY_2015.mp3 Iteration: 240 - Done\n",
      "DocSend_Disrupt_NY_2014.mp3 Iteration: 246 - Done\n",
      "Domuso_NY_2017.mp3 Iteration: 388 - Done\n",
      "Donay_Disrupt_NY_2013.mp3 Iteration: 221 - Done\n",
      "Dryft_Disrupt_SF_2013.mp3 Iteration: 376 - Done\n",
      "Enigma_Disrupt_NYC_2013_Winner.mp3 Iteration: 377 - Done\n",
      "eTrack_Tech_Berlin_2017.mp3 Iteration: 244 - Done\n",
      "EverlyWell_Disrupt_SF_2016.mp3 Iteration: 282 - Done\n",
      "Expect_Labs_Disrupt_SF_2012.mp3 Iteration: 357 - Done\n",
      "Fetch_Disrupt_NY_2014.mp3 Iteration: 255 - Done\n",
      "Floored_Disrupt_NY_2013.mp3 Iteration: 345 - Done\n",
      "Form+_Battlefield_Africa_2017.mp3 Iteration: 246 - Done\n",
      "Future�Family_SF_2017.mp3 Iteration: 365 - Done\n",
      "Getaround_Disrupt_NYC_2011.mp3 Iteration: 275 - Done\n",
      "Giftbit_Disrupt_SF_2016.mp3 Iteration: 245 - Done\n",
      "Glide_Disrupt_NY_2013.mp3 Iteration: 409 - Done\n",
      "Gyft_Disrupt_SF_2012_Winner.mp3 Iteration: 241 - Done\n",
      "HealthyOut_Disrupt_NY_2013.mp3 Iteration: 402 - Done\n",
      "Houzeo_Disrupt_NY_2017.mp3 Iteration: 235 - Done\n",
      "InsideDNA_London_2016.mp3 Iteration: 350 - Done\n",
      "Intelligent_Flying_Machines_Disrupt_SF_2016.mp3 Iteration: 234 - Done\n",
      "Keen_Home_Disrupt_NY_2013.mp3 Iteration: 269 - Done\n",
      "Kloudless_Disrupt_NY_2013.mp3 Iteration: 224 - Done\n",
      "Layer_Disrupt_SF_2013_Winner.mp3 Iteration: 361 - Done\n",
      "Lia_Diagnostics_Berlin_2017_Winner.mp3 Iteration: 271 - Done\n",
      "LiftIgniter_London_2016.mp3 Iteration: 361 - Done\n",
      "Liquidity Presents a Better, Safer Water Filter_Disrupt NY 2015.mp3 Iteration: 336 - Done\n",
      "Liquidity_Disrupt_NY_2015.mp3 Iteration: 336 - Done\n",
      "Lit_Motors_Battlefield_Disrupt_SF_2012.mp3 Iteration: 392 - Done\n",
      "Loji_Disrupt_NY_2017.mp3 Iteration: 228 - Done\n",
      "Lomay_Battlefield_Africa_2017.mp3 Iteration: 319 - Done\n",
      "Lori_Systems_Battlefield_Africa_Winner.mp3 Iteration: 267 - Done\n",
      "LUCY_Disrupt_SF_2016.mp3 Iteration: 239 - Done\n",
      "M-Shule_Battlefield_Africa_2017.mp3 Iteration: 238 - Done\n",
      "Matic_SF_2017.mp3 Iteration: 356 - Done\n",
      "MedRepublic_Disrupt_SF_2016.mp3 Iteration: 236 - Done\n",
      "mFluiDx_Disrupt_SF_2016.mp3 Iteration: 224 - Done\n",
      "Mimi_Disrupt_NY_2014.mp3 Iteration: 354 - Done\n",
      "Mobalytics_Disrupt_SF_2016_Winner.mp3 Iteration: 380 - Done\n",
      "Musical.ly_Disrupt_London_2016.mp3 Iteration: 405 - Done\n",
      "Myki_Disrupt_SF_2016.mp3 Iteration: 225 - Done\n",
      "Nexla_Disrupt_NY_2017.mp3 Iteration: 250 - Done\n",
      "Nuada_SF_2017.mp3 Iteration: 240 - Done\n",
      "NuCypher_NY_2017.mp3 Iteration: 316 - Done\n",
      "Oneva_SF_2017.mp3 Iteration: 332 - Done\n",
      "Open_Garden_Disrupt_NY_2013.mp3 Iteration: 64 - Done\n",
      "Oxehealth_London_2016.mp3 Iteration: 366 - Done\n",
      "PageCloud_Disrupt_2015.mp3 Iteration: 357 - Done\n",
      "PartPic_Disrupt_SF_2012_Winner.mp3 Iteration: 247 - Done\n",
      "Paytap_Disrupt_SF_2012.mp3 Iteration: 230 - Done\n",
      "PhenixP2P_Disrupt_NY_2016.mp3 Iteration: 353 - Done\n",
      "Pi_SF_2017_Winner.mp3 Iteration: 336 - Done\n",
      "Prior_Knowledge_Disrupt_SF_2012.mp3 Iteration: 330 - Done\n",
      "productboard_Disrupt_SF_2016.mp3 Iteration: 245 - Done\n",
      "Proof_Work_2017.mp3 Iteration: 291 - Done\n",
      "Pundit_Disrupt_SF_2016.mp3 Iteration: 230 - Done\n",
      "QEDit_Disrupt_Berlin_2017.mp3 Iteration: 237 - Done\n",
      "RecordGram_NY_2017_Winner.mp3 Iteration: 339 - Done\n",
      "Rex_Animal_Health_Disrupt_SF_2016.mp3 Iteration: 295 - Done\n",
      "Robin_Technologies_Inc_Disrupt_SF_2016.mp3 Iteration: 258 - Done\n",
      "Saya_Mobile_Disrupt_SF_2012.mp3 Iteration: 287 - Done\n",
      "SeaDrone_Disrupt_NY_2016.mp3 Iteration: 38 - Done\n",
      "Seenit_London_2016.mp3 Iteration: 368 - Done\n",
      "Sellio_Battlefield_Africa_2017.mp3 Iteration: 300 - Done\n",
      "Sensay_Disrupt_SF_2016.mp3 Iteration: 273 - Done\n",
      "ShipHawk  Presentation_ Startup Battlefield _ Disrupt NY 2013_Winner.mp3 Iteration: 257 - Done\n",
      "Showkit_Disrupt_NY_2014.mp3 Iteration: 343 - Done\n",
      "Siren_Care_Hardware_Battlefield_2017_Winner.mp3 Iteration: 328 - Done\n",
      "Slides_Disrupt_SF_2016.mp3 Iteration: 238 - Done\n",
      "Spincle_Disrupt_SF_2016.mp3 Iteration: 197 - Done\n",
      "Sqreen_Disrupt_SF_2016.mp3 Iteration: 199 - Done\n",
      "Startup Battlefield_ Water-O Helps You Drink More and Better.mp3 Iteration: 283 - Done\n",
      "Sunrise_Health_NY_2017.mp3 Iteration: 368 - Done\n",
      "SupplyShift_Disrupt_NY_2013.mp3 Iteration: 261 - Done\n",
      "SynCommerce_Battlefield_Africa_Winner.mp3 Iteration: 220 - Done\n",
      "Talent2Africa_Battlefield_Africa_2017.mp3 Iteration: 277 - Done\n",
      "TallyGo_Disrupt_SF_2016.mp3 Iteration: 256 - Done\n",
      "Tango_TV_Battlefield_Africa_2017.mp3 Iteration: 228 - Done\n",
      "UnifyID_Disrupt_SF_2016.mp3 Iteration: 377 - Done\n",
      "Vinli_Disrupt_SF_2014_Winner.mp3 Iteration: 357 - Done\n",
      "Vurb_Disrupt_NY_2014_Winner.mp3 Iteration: 40 - Done\n",
      "Wandelbots_Berlin_2017.mp3 Iteration: 241 - Done\n",
      "Wazer_Disrupt_SF_2016.mp3 Iteration: 263 - Done\n",
      "WeCashUp_Battlefield_Africa_2017.mp3 Iteration: 310 - Done\n",
      "WEconnect_Disrupt_SF_2016.mp3 Iteration: 226 - Done\n",
      "WICASTR_Berlin_2017.mp3 Iteration: 257 - Done\n",
      "YourMechanic_Disrupt_SF_2012.mp3 Iteration: 329 - Done\n",
      "Zenefits_Disrupt_NY_2013.mp3 Iteration: 345 - Done\n",
      "Zumper_Disrupt_SF_2012.mp3 Iteration: 251 - Done\n"
     ]
    }
   ],
   "source": [
    "# state the path of the mp3 files\n",
    "path = 'D://DataElisa/PitchesAudio/'\n",
    "# declare the size of the split\n",
    "seconds_split = 3.0\n",
    "# loop over the directory\n",
    "for f in os.listdir(path):\n",
    "    # if the file ends with mp3\n",
    "    if f.endswith(\".mp3\"): \n",
    "        # read the file\n",
    "        file = os.path.basename(f)\n",
    "        # by default remove white spaces from the text file name\n",
    "        filename = (os.path.splitext(file)[0]).lower().replace(\" \", \"\")\n",
    "        \n",
    "        # create the split folder for the small files\n",
    "        split_folder = path + \"/\" + filename + '/' + str(seconds_split) + \"secSplit/\"\n",
    "        if not os.path.exists(split_folder):\n",
    "            os.makedirs(split_folder)\n",
    "        \n",
    "        # call the function to split the audio files\n",
    "        splitAudio(path, file, filename, split_folder, seconds_split)"
   ]
  }
 ],
 "metadata": {
  "kernelspec": {
   "display_name": "Python [conda root]",
   "language": "python",
   "name": "conda-root-py"
  },
  "language_info": {
   "codemirror_mode": {
    "name": "ipython",
    "version": 2
   },
   "file_extension": ".py",
   "mimetype": "text/x-python",
   "name": "python",
   "nbconvert_exporter": "python",
   "pygments_lexer": "ipython2",
   "version": "2.7.12"
  }
 },
 "nbformat": 4,
 "nbformat_minor": 2
}
