{
 "cells": [
  {
   "cell_type": "markdown",
   "metadata": {},
   "source": [
    "pip install pydub"
   ]
  },
  {
   "cell_type": "code",
   "execution_count": null,
   "metadata": {},
   "outputs": [],
   "source": [
    "import os\n",
    "from pydub import AudioSegment\n",
    "import sys"
   ]
  },
  {
   "cell_type": "markdown",
   "metadata": {},
   "source": [
    "### This method creates the little 3 (or something else) seconds splits of the big file"
   ]
  },
  {
   "cell_type": "code",
   "execution_count": null,
   "metadata": {},
   "outputs": [],
   "source": [
    "def splitAudio(path, file, filename, split_folder, split_interval,):\n",
    "    # set the begin time of the file\n",
    "    timeBegin = 0.0\n",
    "    # set the end time of the file\n",
    "    timeEnd = split_interval * 1000\n",
    "    # set the iterations for the filename\n",
    "    iteration = 1\n",
    "    # load the song\n",
    "    call = AudioSegment.from_mp3(path + file)\n",
    "    # loop over the file length\n",
    "    # as long as the begin time is smaller than the length of the file\n",
    "    while(timeBegin < len(call)):\n",
    "        sys.stdout.write(\"\\rIteration: \" + str(iteration))\n",
    "        sys.stdout.flush()\n",
    "        # create a little segment of the file\n",
    "        segment = call[timeBegin:timeEnd]\n",
    "        # export this segment to a new file\n",
    "        segment.export(split_folder + filename + \"_\" + str(iteration) + \".mp3\", format=\"mp3\")\n",
    "        # increase begin and end time, and interation for the next file\n",
    "        timeBegin += (split_interval * 1000)\n",
    "        timeEnd += (split_interval * 1000)\n",
    "        iteration += 1\n",
    "    print(\" - Done\")"
   ]
  },
  {
   "cell_type": "markdown",
   "metadata": {},
   "source": [
    "### state the base directory where all the mp3 files are located and loop over them\n",
    "set here the seconds split"
   ]
  },
  {
   "cell_type": "code",
   "execution_count": null,
   "metadata": {},
   "outputs": [],
   "source": [
    "# state the path of the mp3 files\n",
    "path = 'btq113/'\n",
    "# declare the size of the split\n",
    "seconds_split = 3.0\n",
    "# loop over the directory\n",
    "for f in os.listdir(path):\n",
    "    # if the file ends with mp3\n",
    "    if f.endswith(\".mp3\"): \n",
    "        # read the file\n",
    "        file = os.path.basename(f)\n",
    "        # by default remove white spaces from the text file name\n",
    "        filename = (os.path.splitext(file)[0]).lower().replace(\" \", \"\")\n",
    "        \n",
    "        # create the split folder for the small files\n",
    "        split_folder = path + \"/\" + filename + '/' + str(seconds_split) + \"secSplit/\"\n",
    "        if not os.path.exists(split_folder):\n",
    "            os.makedirs(split_folder)\n",
    "        \n",
    "        # call the function to split the audio files\n",
    "        print(file + \":\")\n",
    "        splitAudio(path, file, filename, split_folder, seconds_split)"
   ]
  }
 ],
 "metadata": {
  "kernelspec": {
   "display_name": "Python 3",
   "language": "python",
   "name": "python3"
  },
  "language_info": {
   "codemirror_mode": {
    "name": "ipython",
    "version": 3
   },
   "file_extension": ".py",
   "mimetype": "text/x-python",
   "name": "python",
   "nbconvert_exporter": "python",
   "pygments_lexer": "ipython3",
   "version": "3.6.3"
  }
 },
 "nbformat": 4,
 "nbformat_minor": 2
}
