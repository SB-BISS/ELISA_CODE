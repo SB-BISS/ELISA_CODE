{
 "cells": [
  {
   "cell_type": "code",
   "execution_count": 60,
   "metadata": {
    "collapsed": true
   },
   "outputs": [
    {
     "data": {
      "text/plain": [
       "<_io.BufferedRandom name='talk.wav'>"
      ]
     },
     "execution_count": 60,
     "metadata": {},
     "output_type": "execute_result"
    }
   ],
   "source": [
    "import sys\n",
    "import scipy.io.wavfile as wav\n",
    "from pydub import AudioSegment\n",
    "import numpy as np\n",
    "import matplotlib.pyplot as plt\n",
    "import wave\n",
    "\n",
    "\n",
    "path_to_audio = \"data/NokiaQ1-2011qna.mp3\"\n",
    "\n",
    "#needed to give it the converter, maybe you dont\n",
    "AudioSegment.converter = \"C:/Program Files/ffmpeg/bin/ffmpeg.exe\"\n",
    "\n",
    "# change rate of audio file to 16kHz\n",
    "call = AudioSegment.from_file(path_to_audio)\n",
    "call = call.set_frame_rate(16000)\n",
    "#use 30 seconds\n",
    "len_call = 60\n",
    "segment = call[:len_call*1000]\n",
    "\n",
    "# declare the new name of the audio file\n",
    "path = 'talk.wav'\n",
    "\n",
    "# export the audio file to wav format\n",
    "segment.export(path, format=\"wav\")\n",
    "\n",
    "\n"
   ]
  },
  {
   "cell_type": "code",
   "execution_count": 61,
   "metadata": {},
   "outputs": [
    {
     "name": "stdout",
     "output_type": "stream",
     "text": [
      "\nWorking with threshold: \n13789407.126208734\n\nProcessing 1/60 s\nProcessing 2/60 s\nProcessing 3/60 s\nProcessing 4/60 s\nProcessing 5/60 s\nProcessing 6/60 s\nProcessing 7/60 s\nProcessing 8/60 s\nProcessing 9/60 s\nProcessing 10/60 s\nProcessing 11/60 s\nProcessing 12/60 s\nProcessing 13/60 s\nProcessing 14/60 s\nProcessing 15/60 s\nProcessing 16/60 s\nProcessing 17/60 s\nProcessing 18/60 s\nProcessing 19/60 s\nProcessing 20/60 s\nProcessing 21/60 s\nProcessing 22/60 s\nProcessing 23/60 s\nProcessing 24/60 s\nProcessing 25/60 s\nProcessing 26/60 s\nProcessing 27/60 s\nProcessing 28/60 s\nProcessing 29/60 s\nProcessing 30/60 s\nProcessing 31/60 s\nProcessing 32/60 s\nProcessing 33/60 s\nProcessing 34/60 s\nProcessing 35/60 s\nProcessing 36/60 s\nProcessing 37/60 s\nProcessing 38/60 s\nProcessing 39/60 s\nProcessing 40/60 s\nProcessing 41/60 s\nProcessing 42/60 s\nProcessing 43/60 s\nProcessing 44/60 s\nProcessing 45/60 s\nProcessing 46/60 s\nProcessing 47/60 s\nProcessing 48/60 s\nProcessing 49/60 s\nProcessing 50/60 s\nProcessing 51/60 s\nProcessing 52/60 s\nProcessing 53/60 s\nProcessing 54/60 s\nProcessing 55/60 s\nProcessing 56/60 s\nProcessing 57/60 s\nProcessing 58/60 s\nProcessing 59/60 s\nProcessing 60/60 s\n"
     ]
    },
    {
     "name": "stderr",
     "output_type": "stream",
     "text": [
      "C:\\Program Files\\Anaconda3\\lib\\site-packages\\ipykernel_launcher.py:27: DeprecationWarning: The binary mode of fromstring is deprecated, as it behaves surprisingly on unicode inputs. Use frombuffer instead\nC:\\Program Files\\Anaconda3\\lib\\site-packages\\ipykernel_launcher.py:53: DeprecationWarning: The binary mode of fromstring is deprecated, as it behaves surprisingly on unicode inputs. Use frombuffer instead\n"
     ]
    }
   ],
   "source": [
    "#open wav file\n",
    "\n",
    "wr = wave.open(path, 'r')\n",
    "par = list(wr.getparams()) # Get the parameters from the input.\n",
    "par[3] = 0 # The number of samples will be set by writeframes.\n",
    "\n",
    "# Open the output file\n",
    "ww = wave.open('filtered-talk.wav', 'w')\n",
    "ww.setparams(tuple(par)) # Use the same parameters as the input file.\n",
    "\n",
    "#PLAY WITH THIS SO REMOVE OUTER FREQUENCIES to the left and right of the lower plot\n",
    "lowpass = 120 # Remove lower frequencies.\n",
    "highpass = 3000 # Remove higher frequencies.\n",
    "\n",
    "sz = wr.getframerate() # Read and process 1 second at a time.\n",
    "c = int(wr.getnframes()/sz) # whole file\n",
    "\n",
    "#take top n peaks and use their mean as threshold\n",
    "peaks = 20\n",
    "thold = (abs(np.array(sorted(list(lf))[:peaks]).mean()))\n",
    "\n",
    "print (\"\\nWorking with threshold: \")\n",
    "print (str(thold)+ \"\\n\")\n",
    "\n",
    "for num in range(c):\n",
    "    print('Processing {}/{} s'.format(num+1, c))\n",
    "    da = np.fromstring(wr.readframes(sz), dtype=np.int16)\n",
    "    left, right = da[0::2], da[1::2] # left and right channel\n",
    "    lf, rf = np.fft.rfft(left), np.fft.rfft(right)\n",
    "    \n",
    "    #cutoff peacks bigger than thold\n",
    "    for i in range(len(lf)):\n",
    "        if abs(lf[i]) > thold:\n",
    "            lf[i],rf[i] = 0, 0\n",
    "    \n",
    "    lf[:lowpass], rf[:lowpass] = 0, 0 # low pass filter\n",
    "    lf[highpass:], rf[highpass:] = 0,0 # high pass filter\n",
    "    #cutoff individual peaks (no feasible as they change in different recordings)\n",
    "    lf[420:450], rf[420:450] = 0, 0 # line noise\n",
    "    lf[620:700], rf[620:700] = 0, 0 # line noise\n",
    "    lf[750:800], rf[750:800] = 0, 0 # line noise\n",
    "    \n",
    "    nl, nr = np.fft.irfft(lf), np.fft.irfft(rf)\n",
    "    ns = np.column_stack((nl,nr)).ravel().astype(np.int16)\n",
    "    ww.writeframes(ns.tostring())\n",
    "# Close the files.\n",
    "wr.close()\n",
    "ww.close()\n",
    "\n",
    "#build the plot\n",
    "ww = wave.open('filtered-talk.wav', 'r')\n",
    "sz = 44100*len_call # Read and process 1 second at a time.\n",
    "da = np.fromstring(ww.readframes(sz), dtype=np.int16)\n",
    "left, right = da[0::2], da[1::2]\n",
    "lf, rf = np.fft.rfft(left), np.fft.rfft(right)\n",
    "\n",
    "plt.figure(1)\n",
    "a = plt.subplot(211)\n",
    "r = 2**16/2\n",
    "a.set_ylim([-r, r])\n",
    "a.set_xlabel('time [s]')\n",
    "a.set_ylabel('sample value [-]')\n",
    "x = np.arange(len(left))/len(left)\n",
    "plt.plot(x, left)\n",
    "b = plt.subplot(212)\n",
    "b.set_xscale('log')\n",
    "b.set_xlabel('frequency [Hz]')\n",
    "b.set_ylabel('|amplitude|')\n",
    "plt.plot(abs(lf))\n",
    "plt.show()\n",
    "#plt.savefig('filtered.png',dpi=500)\n",
    "\n",
    "wr.close()\n",
    "ww.close()\n",
    "\n"
   ]
  },
  {
   "cell_type": "code",
   "execution_count": 29,
   "metadata": {},
   "outputs": [],
   "source": [
    ""
   ]
  },
  {
   "cell_type": "code",
   "execution_count": 140,
   "metadata": {},
   "outputs": [],
   "source": [
    ""
   ]
  },
  {
   "cell_type": "code",
   "execution_count": null,
   "metadata": {},
   "outputs": [],
   "source": []
  }
 ],
 "metadata": {
  "kernelspec": {
   "display_name": "Python 2",
   "language": "python",
   "name": "python2"
  },
  "language_info": {
   "codemirror_mode": {
    "name": "ipython",
    "version": 2
   },
   "file_extension": ".py",
   "mimetype": "text/x-python",
   "name": "python",
   "nbconvert_exporter": "python",
   "pygments_lexer": "ipython2",
   "version": "2.7.6"
  }
 },
 "nbformat": 4,
 "nbformat_minor": 0
}
