{
 "cells": [
  {
   "cell_type": "markdown",
   "metadata": {},
   "source": [
    "## libraries used throughout the program"
   ]
  },
  {
   "cell_type": "code",
   "execution_count": 1,
   "metadata": {
    "collapsed": true
   },
   "outputs": [],
   "source": [
    "import re\n",
    "import os\n",
    "from subprocess import call\n",
    "import json\n",
    "import pandas as pd\n",
    "import math\n",
    "import sys"
   ]
  },
  {
   "cell_type": "markdown",
   "metadata": {},
   "source": [
    "## this method is used to split a paragraph into sentences\n",
    "- this creates one entry per sentence in the json file\n",
    "- it is also used then to extract one sentence from the original mp3 file"
   ]
  },
  {
   "cell_type": "code",
   "execution_count": 2,
   "metadata": {
    "collapsed": true
   },
   "outputs": [],
   "source": [
    "def splitParagraphIntoSentences(paragraph):\n",
    "    # preprocess the paragraph first before splitting into sentences\n",
    "    paragraph = re.sub(r'U\\.S\\.', 'US', paragraph)\n",
    "    paragraph = re.sub(r'Mr\\.', 'Mr', paragraph)\n",
    "    paragraph = re.sub(r'Mrs\\.', 'Mrs', paragraph)\n",
    "    paragraph = re.sub(r'Ms\\.', 'Ms', paragraph)\n",
    "    paragraph = re.sub(r'Operator:', 'O:', paragraph)\n",
    "    paragraph = re.sub(r'\\[ph\\]', '', paragraph)\n",
    "    paragraph = re.sub(r'\\(\\d+:\\d+\\)', '', paragraph)\n",
    "    \n",
    "#     if the paragraph starts with a Question or Answer tag (Q&A section), temporary store the name ...\n",
    "#     QnA = re.findall('\\<.*\\>:\\s', paragraph)\n",
    "\n",
    "    # replace the question and answer tag with Q: and A: respectively\n",
    "    paragraph = re.sub(r'\\<Q.*\\>:\\s', 'Q: ', paragraph)\n",
    "    paragraph = re.sub(r'\\<A.*\\>:\\s', 'A: ', paragraph)\n",
    "    # split the paragraph after every period what is followed by a white space\n",
    "    sentenceEnders = re.compile('(?<=[\\.\\!\\?])\\s')\n",
    "    sentenceList = sentenceEnders.split(paragraph)\n",
    "    \n",
    "#     if len(QnA):\n",
    "#         add the name later again to restore previous structure\n",
    "#         sentenceList[0] = QnA[0] + sentenceList[0]\n",
    "\n",
    "    return sentenceList"
   ]
  },
  {
   "cell_type": "markdown",
   "metadata": {},
   "source": [
    "## here the text gets preprocessed the first time and stored in a new file in a subfolder\n",
    "- the original file has a new line after every 11th word\n",
    "- with preprocessing these newlines are being removed\n",
    "- this means that one whole conversation of one person gets stored as one paragraph in the new file\n",
    "## stop the execution after here to make manual adjustments to the text"
   ]
  },
  {
   "cell_type": "code",
   "execution_count": 3,
   "metadata": {
    "collapsed": true
   },
   "outputs": [],
   "source": [
    "def processTextFileToParagraph(path, text_file_name, process_folder, text_file):\n",
    "    # open the text file for the current mp3 file\n",
    "    with open(path + text_file_name + '.txt') as f:\n",
    "        # create a new file for the preprocessed text\n",
    "        with open(process_folder + text_file + 'PreprocessToParagraphs.txt', \"w\") as f1:\n",
    "            # while reading the first file write in the second\n",
    "            for line in f:\n",
    "                line.replace(\".\", \". \")\n",
    "                # only remove newline characters if the line is not empty\n",
    "                if line not in ['\\n', '\\r\\n']:\n",
    "                    f1.write(line.rstrip('\\n'))\n",
    "                else:\n",
    "                    f1.write(line)"
   ]
  },
  {
   "cell_type": "markdown",
   "metadata": {},
   "source": [
    "## here the text gets processed a second time and stored again in a new file in the same folder\n",
    "- this step is splitting the paragraph back to sentences\n",
    "- the json file will include then one sentence per entry"
   ]
  },
  {
   "cell_type": "code",
   "execution_count": 4,
   "metadata": {
    "collapsed": true,
    "scrolled": false
   },
   "outputs": [],
   "source": [
    "def processTextFileToSentences(process_folder, text_file):\n",
    "    # open the just created file with processed text\n",
    "    with open(process_folder + text_file + \"PreprocessToParagraphs.txt\") as f:\n",
    "        # create another file for the second preprocessing step\n",
    "        with open(process_folder + text_file + 'PreprocessToSentences.txt', \"w\") as f1:\n",
    "            for line in f:\n",
    "                not_needed = ['MANAGEMENT DISCUSSION SECTION',\n",
    "                             'Wire: Bloomberg Transcripts',\n",
    "                             'CallSource: ',\n",
    "                             'For more event information and transcripts',\n",
    "                             'Q&A',\n",
    "                             'This transcript may not be 100 percent',\n",
    "                             'Copyright (c)',\n",
    "                             'END OF STORY']\n",
    "                if not any(x in line for x in not_needed) or ' Q&A' in line:\n",
    "                    # split paragraph into sentences\n",
    "                    sentences = splitParagraphIntoSentences(line)\n",
    "                    for s in sentences:\n",
    "                        if s is not '':\n",
    "                            # remove double white spaces from the text\n",
    "                            f1.write(' '.join(s.split()) + '\\n')"
   ]
  },
  {
   "cell_type": "markdown",
   "metadata": {},
   "source": [
    "## This method creates the json file for the earlier specified original voice mp3\n",
    "#### with the help of aeneas the mp3 gets analyzed and aligned with the preprocessed sentences from the file"
   ]
  },
  {
   "cell_type": "code",
   "execution_count": 5,
   "metadata": {},
   "outputs": [],
   "source": [
    "def createJSON(path, file, process_folder, text_file):\n",
    "    # call the aeneas library and create the json file\n",
    "    call([\"python\",\n",
    "          \"-m\", \n",
    "          \"aeneas.tools.execute_task\",\n",
    "          path + \"/\" + file, # original mp3 file\n",
    "          process_folder + text_file + \"PreprocessToSentences.txt\", # sentences for the mp3 file\n",
    "          \"task_language=eng|os_task_file_format=json|is_text_type=plain\",\n",
    "          process_folder + text_file + \".json\"]) # json file containing the sentences and begin and end time"
   ]
  },
  {
   "cell_type": "markdown",
   "metadata": {},
   "source": [
    "## This method loops through the json file again and extract the begin and end time of each sentence\n",
    "- round to 2 decimals\n",
    "## the filename contains the original filename and the created id in the json file to keep the files apart and prevent overwriting\n",
    "- also a maximum difference between begin and end time of each sentence gets calculated for future purposes\n",
    "\n",
    "- this script runs for quite a long time creating small mp3 files for each sentence"
   ]
  },
  {
   "cell_type": "code",
   "execution_count": 6,
   "metadata": {},
   "outputs": [],
   "source": [
    "def createMP3withJSON(path, file, mp3_folder, process_folder, text_file):\n",
    "    # open the json file\n",
    "    with open(process_folder + text_file + \".json\") as json_file:\n",
    "        json_object = json.load(json_file)\n",
    "        # transform the json file to a dataframe using pandas\n",
    "        df = pd.DataFrame.from_dict(json_object, orient='columns')\n",
    "        maxDiff = 0\n",
    "        # for each sentence\n",
    "        for sentence in df['fragments']:\n",
    "            # calculate difference between begin and end time and round to 2 decimals\n",
    "            diff = math.ceil((float(sentence['end']) - float(sentence['begin'])) * 100) / 100\n",
    "            # update max difference\n",
    "            if diff > maxDiff:\n",
    "                maxDiff = diff\n",
    "            # skip entries with 0 seconds of sound\n",
    "            if sentence['lines'][0]:\n",
    "                sys.stdout.write(\"\\r\" + file + \" File ID: \" + sentence['id'])\n",
    "                sys.stdout.flush()\n",
    "                # create mp3 file for sentence\n",
    "                call([\"ffmpeg\",\n",
    "                  \"-ss\",\n",
    "                  str(sentence['begin']), # begin time\n",
    "                  \"-t\",\n",
    "                  str(diff), # difference to end time\n",
    "                  \"-i\",\n",
    "                  path + \"/\" + file, # original mp3 file\n",
    "                  mp3_folder + text_file + sentence['id'] + \".mp3\"]) # mp3 file for sentence\n",
    "        print(\" - Done\")\n",
    "        "
   ]
  },
  {
   "cell_type": "markdown",
   "metadata": {},
   "source": [
    "# start the process \n",
    "## extract the mp3 file names from the defined path\n",
    "- the path containing all the mp3 files\n",
    "- get the filename from the path\n",
    "- path contains the path to the audio files\n",
    "- file contains the name of file\n",
    "- replace_strings contains everything what the filename of the audio contains, but not the filename of the respective text file\n",
    "- the 2 quotes before and after the text_file are to be used in case the filename of the text file contains something the audio file does not"
   ]
  },
  {
   "cell_type": "code",
   "execution_count": 7,
   "metadata": {},
   "outputs": [
    {
     "name": "stdout",
     "output_type": "stream",
     "text": [
      "BT q1 13cut.mp3 File ID: f000287 - Done\n",
      "BT q1 13cutext9.mp3 File ID: f000033 - Done\n",
      "BT q1 13cutext8.mp3 File ID: f000026 - Done\n",
      "BT q1 13cutext13.mp3 File ID: f000036 - Done\n",
      "BT q1 13cutext12.mp3 File ID: f000047 - Done\n",
      "BT q1 13cutext10.mp3 File ID: f000046 - Done\n",
      "BT q1 13cutext11.mp3 File ID: f000072 - Done\n",
      "BT q1 13cutext15.mp3 File ID: f000036 - Done\n",
      "BT q1 13cutext14.mp3 File ID: f000045 - Done\n",
      "BT q1 13cutext16.mp3 File ID: f000057 - Done\n",
      "BT q1 13cutext3.mp3 File ID: f000036 - Done\n",
      "BT q1 13cutext2.mp3 File ID: f000036 - Done\n",
      "BT q1 13cutext1.mp3 File ID: f000033 - Done\n",
      "BT q1 13cutext5.mp3 File ID: f000026 - Done\n",
      "BT q1 13cutext4.mp3 File ID: f000029 - Done\n",
      "BT q1 13cutext6.mp3 File ID: f000018 - Done\n",
      "BT q1 13cutext7.mp3 File ID: f000049 - Done\n"
     ]
    }
   ],
   "source": [
    "# path to the original mp3 file\n",
    "path = 'btq113/'\n",
    "for files in os.listdir(path):\n",
    "    if files.endswith(\".mp3\"): \n",
    "        # get the complete path to the file\n",
    "        file = os.path.basename(files)\n",
    "        # by default remove white spaces from the text file name\n",
    "        text_file = (os.path.splitext(file)[0]).lower().replace(\" \", \"\")\n",
    "\n",
    "        # if there is something what needs to be removed from the name\n",
    "        # remember to write things lower case here\n",
    "        replace_strings = [\"nokia\",\"-\",\"20\"] \n",
    "        for replace_string in replace_strings:\n",
    "            if replace_string:\n",
    "                # only remove other things if stated\n",
    "                text_file = text_file.replace(replace_string, \"\")\n",
    "        # add aditional information in case something got replaced\n",
    "        text_file = \"\" + text_file + \"\"\n",
    "\n",
    "        # create a subfolder for the original mp3 file containing the filename if the folder does not yet exist\n",
    "        process_folder = path + text_file + '/'\n",
    "        mp3_folder = process_folder + \"mp3/\"\n",
    "        if not os.path.exists(process_folder):\n",
    "            os.makedirs(process_folder) \n",
    "        if not os.path.exists(mp3_folder):\n",
    "            os.makedirs(mp3_folder)\n",
    "\n",
    "        # add possible extra text for the filename otherwise leave it empty\n",
    "        text_file_name = \"\" + text_file + \"\"\n",
    "        \n",
    "        # call the preprocessing for each mp3 file\n",
    "        processTextFileToParagraph(path, text_file_name, process_folder, text_file)\n",
    "        processTextFileToSentences(process_folder, text_file)\n",
    "        \n",
    "        # create the json for this mp3 file\n",
    "        createJSON(path, file, process_folder, text_file)\n",
    "        \n",
    "        # split the mp3 into sentences\n",
    "        createMP3withJSON(path, file, mp3_folder, process_folder, text_file)\n",
    "        "
   ]
  },
  {
   "cell_type": "code",
   "execution_count": null,
   "metadata": {
    "collapsed": true
   },
   "outputs": [],
   "source": []
  }
 ],
 "metadata": {
  "kernelspec": {
   "display_name": "Python 3",
   "language": "python",
   "name": "python3"
  },
  "language_info": {
   "codemirror_mode": {
    "name": "ipython",
    "version": 3
   },
   "file_extension": ".py",
   "mimetype": "text/x-python",
   "name": "python",
   "nbconvert_exporter": "python",
   "pygments_lexer": "ipython3",
   "version": "3.6.3"
  }
 },
 "nbformat": 4,
 "nbformat_minor": 2
}
