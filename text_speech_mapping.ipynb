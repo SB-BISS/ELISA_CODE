{
 "cells": [
  {
   "cell_type": "markdown",
   "metadata": {},
   "source": [
    "## libraries used throughout the program"
   ]
  },
  {
   "cell_type": "code",
   "execution_count": 8,
   "metadata": {
    "collapsed": true
   },
   "outputs": [],
   "source": [
    "import re\n",
    "import os\n",
    "from subprocess import call\n",
    "import json\n",
    "import pandas as pd\n",
    "import math\n",
    "import sys"
   ]
  },
  {
   "cell_type": "markdown",
   "metadata": {},
   "source": [
    "## this method is used to split a paragraph into sentences\n",
    "- this creates one entry per sentence in the json file\n",
    "- it is also used then to extract one sentence from the original mp3 file"
   ]
  },
  {
   "cell_type": "code",
   "execution_count": 9,
   "metadata": {
    "collapsed": true
   },
   "outputs": [],
   "source": [
    "def splitParagraphIntoSentences(paragraph):\n",
    "    # preprocess the paragraph first before splitting into sentences\n",
    "    paragraph = re.sub(r'U\\.S\\.', 'US', paragraph)\n",
    "    paragraph = re.sub(r'Mr\\.', 'Mr', paragraph)\n",
    "    paragraph = re.sub(r'Mrs\\.', 'Mrs', paragraph)\n",
    "    paragraph = re.sub(r'Ms\\.', 'Ms', paragraph)\n",
    "    paragraph = re.sub(r'Operator:', 'O:', paragraph)\n",
    "    # if the paragraph starts with a Question or Answer tag (Q&A section), temporary store the name ...\n",
    "#     QnA = re.findall('\\<.*\\>:\\s', paragraph)\n",
    "    paragraph = re.sub(r'\\<Q.*\\>:\\s', 'Q: ', paragraph)\n",
    "    paragraph = re.sub(r'\\<A.*\\>:\\s', 'A: ', paragraph)\n",
    "    # split the paragraph after every period what is followed by a white space\n",
    "    sentenceEnders = re.compile('(?<=[\\.\\!\\?])\\s')\n",
    "    sentenceList = sentenceEnders.split(paragraph)\n",
    "#     if len(QnA):\n",
    "        # add the name later again to restore previous structure\n",
    "#         sentenceList[0] = QnA[0] + sentenceList[0]\n",
    "    return sentenceList"
   ]
  },
  {
   "cell_type": "markdown",
   "metadata": {},
   "source": [
    "## here the file names and paths are defined\n",
    "- the original mp3 file name gets defined here and the path where the file can be found\n",
    "- the path and file name are used later on again"
   ]
  },
  {
   "cell_type": "code",
   "execution_count": 10,
   "metadata": {},
   "outputs": [],
   "source": [
    "# path to the original mp3 file\n",
    "path = 'AUDIO/soundFiles/public/mp3/Nokia/'\n",
    "# name of the original mp3 file\n",
    "file = 'Nokia Q1-2017'\n",
    "\n",
    "# by default remove white spaces from the text file name\n",
    "textFile = file.lower().replace(\" \", \"\")\n",
    "\n",
    "# if there is something what needs to be removed from the name\n",
    "# remember to wrote things lower case here\n",
    "replaceStrings = [\"nokia\",\"-\",\"20\"] \n",
    "for replaceString in replaceStrings:\n",
    "    if replaceString:\n",
    "        # only remove other things if stated\n",
    "        textFile = textFile.replace(replaceString, \"\")\n",
    "# add aditional information in case something got replaced\n",
    "textFile = \"n\" + textFile + \"\"\n",
    "\n",
    "# create a subfolder for the original mp3 file containing the filename if the folder does not yet exist\n",
    "processFolder = path + textFile + '/'\n",
    "mp3_folder = processFolder + \"mp3/\"\n",
    "if not os.path.exists(processFolder):\n",
    "    os.makedirs(processFolder) \n",
    "if not os.path.exists(mp3_folder):\n",
    "    os.makedirs(mp3_folder)\n",
    "    \n",
    "# add possible extra text for the filename otherwise leave it empty\n",
    "textFileName = \"\" + textFile + \"\""
   ]
  },
  {
   "cell_type": "markdown",
   "metadata": {},
   "source": [
    "## here the text gets preprocessed the first time and stored in a new file in a subfolder\n",
    "- the original file has a new line after every 11th word\n",
    "- with preprocessing these newlines are being removed\n",
    "- this means that one whole conversation of one person gets stored as one paragraph in the new file\n",
    "## stop the execution after here to make manual adjustments to the text"
   ]
  },
  {
   "cell_type": "code",
   "execution_count": 11,
   "metadata": {},
   "outputs": [],
   "source": [
    "# open the text file for the current mp3 file\n",
    "with open(path + textFileName + '.txt') as f:\n",
    "    # create a new file for the preprocessed text\n",
    "    with open(processFolder + textFile + 'PreprocessToParagraphs.txt', \"w\") as f1:\n",
    "        # while reading the first file write in the second\n",
    "        for line in f:\n",
    "            line.replace(\".\", \". \")\n",
    "            # only remove newline characters if the line is not empty\n",
    "            if line not in ['\\n', '\\r\\n']:\n",
    "                f1.write(line.rstrip('\\n'))\n",
    "            else:\n",
    "                f1.write(line)"
   ]
  },
  {
   "cell_type": "markdown",
   "metadata": {},
   "source": [
    "## here the text gets processed a second time and stored again in a new file in the same folder\n",
    "- this step is splitting the paragraph back to sentences\n",
    "- the json file will include then one sentence per entry"
   ]
  },
  {
   "cell_type": "code",
   "execution_count": 12,
   "metadata": {
    "scrolled": false
   },
   "outputs": [],
   "source": [
    "# open the just created file with processed text\n",
    "with open(processFolder + textFile + \"PreprocessToParagraphs.txt\") as f:\n",
    "    # create another file for the second preprocessing step\n",
    "    with open(processFolder + textFile + 'PreprocessToSentences.txt', \"w\") as f1:\n",
    "        for line in f:\n",
    "            notNeeded = ['MANAGEMENT DISCUSSION SECTION',\n",
    "                         'Wire: Bloomberg Transcripts',\n",
    "                         'CallSource: ',\n",
    "                         'For more event information and transcripts',\n",
    "                         'Q&A',\n",
    "                         'This transcript may not be 100 percent',\n",
    "                         'Copyright (c)',\n",
    "                         'END OF STORY']\n",
    "            if not any(x in line for x in notNeeded) or ' Q&A' in line:\n",
    "                # split paragraph into sentences\n",
    "                sentences = splitParagraphIntoSentences(line)\n",
    "                for s in sentences:\n",
    "                    if s is not '':\n",
    "                        # remove double white spaces from the text\n",
    "                        f1.write(' '.join(s.split()) + '\\n')"
   ]
  },
  {
   "cell_type": "markdown",
   "metadata": {},
   "source": [
    "## here the json file gets created for the earlier specified original voice mp3\n",
    "#### with the help of aeneas the mp3 gets analyzed and aligned with the preprocessed sentences from the file"
   ]
  },
  {
   "cell_type": "code",
   "execution_count": 13,
   "metadata": {},
   "outputs": [
    {
     "data": {
      "text/plain": [
       "0"
      ]
     },
     "execution_count": 13,
     "metadata": {},
     "output_type": "execute_result"
    }
   ],
   "source": [
    "# call the aeneas library and create the json file\n",
    "call([\"python\",\n",
    "      \"-m\", \n",
    "      \"aeneas.tools.execute_task\",\n",
    "      path + file + \".mp3\", # original mp3 file\n",
    "      processFolder + textFile + \"PreprocessToSentences.txt\", # sentences for the mp3 file\n",
    "      \"task_language=eng|os_task_file_format=json|is_text_type=plain\",\n",
    "      processFolder + textFile + \".json\"]) # json file containing the sentences and begin and end time"
   ]
  },
  {
   "cell_type": "markdown",
   "metadata": {},
   "source": [
    "## loop through the json file again and extract the begin and end time of each sentence\n",
    "- round to 2 decimals\n",
    "## the filename contains the original filename and the created id in the json file to keep the files apart and prevent overwriting\n",
    "- also a maximum difference between begin and end time of each sentence gets calculated for future purposes\n",
    "\n",
    "- this script runs for quite a long time creating small mp3 files for each sentence"
   ]
  },
  {
   "cell_type": "code",
   "execution_count": 14,
   "metadata": {},
   "outputs": [
    {
     "name": "stdout",
     "output_type": "stream",
     "text": [
      "File ID: f000409 - Done\n"
     ]
    }
   ],
   "source": [
    "# open the json file\n",
    "with open(processFolder + textFile + \".json\") as json_file:\n",
    "    json_object = json.load(json_file)\n",
    "    # transform the json file to a dataframe using pandas\n",
    "    df = pd.DataFrame.from_dict(json_object, orient='columns')\n",
    "    maxDiff = 0\n",
    "    # for each sentence\n",
    "    for sentence in df['fragments']:\n",
    "        # calculate difference between begin and end time and round to 2 decimals\n",
    "        diff = math.ceil((float(sentence['end']) - float(sentence['begin'])) * 100) / 100\n",
    "        # update max difference\n",
    "        if diff > maxDiff:\n",
    "            maxDiff = diff\n",
    "        # skip entries with 0 seconds of sound\n",
    "        if sentence['lines'][0]:\n",
    "            sys.stdout.write(\"\\rFile ID: \" + sentence['id'])\n",
    "            sys.stdout.flush()\n",
    "            # create mp3 file for sentence\n",
    "            call([\"ffmpeg\",\n",
    "              \"-ss\",\n",
    "              str(sentence['begin']), # begin time\n",
    "              \"-t\",\n",
    "              str(diff), # difference to end time\n",
    "              \"-i\",\n",
    "              path + file + \".mp3\", # original mp3 file\n",
    "              mp3_folder + textFile + sentence['id'] + \".mp3\"]) # mp3 file for sentence\n",
    "    print(\" - Done\")\n",
    "        "
   ]
  },
  {
   "cell_type": "code",
   "execution_count": null,
   "metadata": {
    "collapsed": true
   },
   "outputs": [],
   "source": []
  }
 ],
 "metadata": {
  "kernelspec": {
   "display_name": "Python 3",
   "language": "python",
   "name": "python3"
  },
  "language_info": {
   "codemirror_mode": {
    "name": "ipython",
    "version": 3
   },
   "file_extension": ".py",
   "mimetype": "text/x-python",
   "name": "python",
   "nbconvert_exporter": "python",
   "pygments_lexer": "ipython3",
   "version": "3.6.3"
  }
 },
 "nbformat": 4,
 "nbformat_minor": 2
}
