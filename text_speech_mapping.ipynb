{
 "cells": [
  {
   "cell_type": "markdown",
   "metadata": {},
   "source": [
    "# Requirements\n",
    "- aeneas\n",
    "- pydub"
   ]
  },
  {
   "cell_type": "markdown",
   "metadata": {},
   "source": [
    "## libraries used throughout the program"
   ]
  },
  {
   "cell_type": "code",
   "execution_count": 12,
   "metadata": {
    "collapsed": true
   },
   "outputs": [],
   "source": [
    "import re\n",
    "import os\n",
    "from subprocess import call\n",
    "import json\n",
    "import pandas as pd\n",
    "import sys\n",
    "from pydub import AudioSegment"
   ]
  },
  {
   "cell_type": "markdown",
   "metadata": {},
   "source": [
    "## this method is used to split a paragraph into sentences\n",
    "- this creates one entry per sentence in the json file\n",
    "- it is also used then to extract one sentence from the original mp3 file"
   ]
  },
  {
   "cell_type": "code",
   "execution_count": 13,
   "metadata": {
    "collapsed": true
   },
   "outputs": [],
   "source": [
    "def splitParagraphIntoSentences(paragraph):\n",
    "    # preprocess the paragraph first before splitting into sentences\n",
    "    paragraph = re.sub(r'U\\.S\\.', 'US', paragraph)\n",
    "    paragraph = re.sub(r'Mr\\.', 'Mr', paragraph)\n",
    "    paragraph = re.sub(r'Mrs\\.', 'Mrs', paragraph)\n",
    "    paragraph = re.sub(r'Ms\\.', 'Ms', paragraph)\n",
    "    paragraph = re.sub(r'Operator:', 'O:', paragraph)\n",
    "    paragraph = re.sub(r'\\[ph\\]', '', paragraph)\n",
    "    paragraph = re.sub(r'\\((\\d+\\:*)+\\)', '', paragraph)\n",
    "\n",
    "    # replace the question and answer tag with Q: and A: respectively\n",
    "    paragraph = re.sub(r'\\<Q.*\\>:\\s', 'Q: ', paragraph)\n",
    "    paragraph = re.sub(r'\\<A.*\\>:\\s', 'A: ', paragraph)\n",
    "    # split the paragraph after every period (.) but only if the period is followed by a white space\n",
    "    sentenceEnders = re.compile('(?<=[\\.\\!\\?])\\s')\n",
    "    sentenceList = sentenceEnders.split(paragraph)\n",
    "\n",
    "    return sentenceList"
   ]
  },
  {
   "cell_type": "markdown",
   "metadata": {},
   "source": [
    "## here the text gets preprocessed the first time and stored in a new file in a subfolder\n",
    "- the original file has a new line after every 11th word\n",
    "- with preprocessing these newlines are being removed\n",
    "- this means that one whole conversation of one person gets stored as one paragraph in the new file\n",
    "## stop the execution after here to make manual adjustments to the text"
   ]
  },
  {
   "cell_type": "code",
   "execution_count": 14,
   "metadata": {
    "collapsed": true
   },
   "outputs": [],
   "source": [
    "def processTextFileToParagraph(path, process_folder, text_file):\n",
    "    # open the text file for the current mp3 file\n",
    "    with open(path + text_file + '.txt') as f:\n",
    "        # create a new file for the preprocessed text\n",
    "        with open(process_folder + text_file + 'PreprocessToParagraphs.txt', \"w\") as f1:\n",
    "            # while reading the first file write in the second\n",
    "            for line in f:\n",
    "                line.replace(\".\", \". \")\n",
    "                # only remove newline characters if the line is not empty\n",
    "                if line not in ['\\n', '\\r\\n']:\n",
    "                    f1.write(' ')\n",
    "                    f1.write(line.rstrip('\\n'))\n",
    "                else:\n",
    "                    f1.write(line)"
   ]
  },
  {
   "cell_type": "markdown",
   "metadata": {},
   "source": [
    "## here the text gets processed a second time and stored again in a new file in the same folder\n",
    "- this step is splitting the paragraph back to sentences\n",
    "- the json file will include then one sentence per entry"
   ]
  },
  {
   "cell_type": "code",
   "execution_count": 15,
   "metadata": {
    "collapsed": true,
    "scrolled": false
   },
   "outputs": [],
   "source": [
    "def processTextFileToSentences(process_folder, text_file):\n",
    "    # open the just created file with processed text\n",
    "    with open(process_folder + text_file + \"PreprocessToParagraphs.txt\") as f:\n",
    "        # create another file for the second preprocessing step\n",
    "        with open(process_folder + text_file + 'PreprocessToSentences.txt', \"w\") as f1:\n",
    "            for line in f:\n",
    "                not_needed = ['MANAGEMENT DISCUSSION SECTION',\n",
    "                             'Wire: Bloomberg Transcripts',\n",
    "                             'CallSource: ',\n",
    "                             'Event Date: ',\n",
    "                             'Event Description: ',\n",
    "                             'Source: ',\n",
    "                             'For more event information and transcripts',\n",
    "                             'Q&A',\n",
    "                             'This transcript may not be 100 percent',\n",
    "                             'Copyright (c)',\n",
    "                             'END OF STORY']\n",
    "                if not any(x in line for x in not_needed) or ' Q&A' in line:\n",
    "                    # split paragraph into sentences\n",
    "                    sentences = splitParagraphIntoSentences(line)\n",
    "                    for s in sentences:\n",
    "                        if s is not '':\n",
    "                            # remove double white spaces from the text\n",
    "                            f1.write(' '.join(s.split()) + '\\n')"
   ]
  },
  {
   "cell_type": "markdown",
   "metadata": {},
   "source": [
    "## This method creates the json file for the earlier specified original voice mp3\n",
    "#### with the help of aeneas the mp3 gets analyzed and aligned with the preprocessed sentences from the file"
   ]
  },
  {
   "cell_type": "code",
   "execution_count": 16,
   "metadata": {
    "collapsed": true
   },
   "outputs": [],
   "source": [
    "def createJSON(path, file, process_folder, text_file):\n",
    "    # call the aeneas library and create the json file\n",
    "    call([\"python\",\n",
    "          \"-m\", \n",
    "          \"aeneas.tools.execute_task\",\n",
    "          path + \"/\" + file, # original mp3 file\n",
    "          process_folder + text_file + \"PreprocessToSentences.txt\", # sentences for the mp3 file\n",
    "          \"task_language=eng|os_task_file_format=json|is_text_type=plain\",\n",
    "          process_folder + text_file + \".json\"]) # json file containing the sentences and begin and end time"
   ]
  },
  {
   "cell_type": "markdown",
   "metadata": {},
   "source": [
    "## This method loops through the json file again and extract the begin and end time of each sentence\n",
    "- round to 2 decimals\n",
    "## the filename contains the original filename and the created id in the json file to keep the files apart and prevent overwriting\n",
    "- also a maximum difference between begin and end time of each sentence gets calculated for future purposes\n",
    "\n",
    "- this script runs for quite a long time creating small mp3 files for each sentence"
   ]
  },
  {
   "cell_type": "code",
   "execution_count": 17,
   "metadata": {
    "collapsed": true
   },
   "outputs": [],
   "source": [
    "def createMP3withJSON(path, file, mp3_folder, process_folder, text_file):\n",
    "    # open the json file\n",
    "    with open(process_folder + text_file + \".json\") as json_file:\n",
    "        json_object = json.load(json_file)\n",
    "        # transform the json file to a dataframe using pandas\n",
    "        df = pd.DataFrame.from_dict(json_object, orient='columns')\n",
    "        maxDiff = 0\n",
    "        # for each sentence\n",
    "        call = AudioSegment.from_mp3(path + file)\n",
    "        # loop over the file length\n",
    "        # as long as the begin time is smaller than the length of the file\n",
    "        for sentences in df['fragments']:\n",
    "            # skip entries with 0 seconds of sound\n",
    "            if sentences['lines'][0]:\n",
    "                sys.stdout.write(\"\\r\" + file + \" File ID: \" + sentences['id'])\n",
    "                sys.stdout.flush()\n",
    "                # read start and end time\n",
    "                timeBegin = float(sentences['begin']) * 1000\n",
    "                timeEnd = float(sentences['end']) * 1000\n",
    "                # create a little segment of the file\n",
    "                sentence = call[timeBegin:timeEnd]\n",
    "                # export this segment to a new file\n",
    "                sentence.export(mp3_folder + text_file + \"_\" + sentences['id'] + \".mp3\", format=\"mp3\")\n",
    "        print(\" - Done\")\n",
    "        "
   ]
  },
  {
   "cell_type": "markdown",
   "metadata": {},
   "source": [
    "# start the process \n",
    "## extract the mp3 file names from the defined path\n",
    "- the path containing all the mp3 files\n",
    "- get the filename from the path\n",
    "- path contains the path to the audio files\n",
    "- file contains the name of file\n",
    "- replace_strings contains everything what the filename of the audio contains, but not the filename of the respective text file\n",
    "- the 2 quotes before and after the text_file are to be used in case the filename of the text file contains something the audio file does not"
   ]
  },
  {
   "cell_type": "code",
   "execution_count": 18,
   "metadata": {
    "scrolled": true
   },
   "outputs": [
    {
     "name": "stdout",
     "output_type": "stream",
     "text": [
      "Nokia Q3-2017call.mp3 File ID: f000240 - Done\n",
      "Nokia Q2-2012qna.mp3 File ID: f000285 - Done\n",
      "Nokia Q1-2012call.mp3 File ID: f000218 - Done\n",
      "Nokia Q3-2011qna.mp3 File ID: f000324 - Done\n",
      "Nokia Q4-2014qna.mp3 File ID: f000336 - Done\n",
      "Nokia Q1-2013call.mp3 File ID: f000173 - Done\n",
      "Nokia Q2-2017call.mp3 File ID: f000181 - Done\n",
      "Nokia Q1-2014qna.mp3 File ID: f000257 - Done\n",
      "Nokia Q3-2013qna.mp3 File ID: f000322 - Done\n",
      "Nokia Q3-2017qna.mp3 File ID: f000341 - Done\n",
      "Nokia Q2-2015call.mp3 File ID: f000221 - Done\n",
      "Nokia Q1-2011call.mp3 File ID: f000225 - Done\n",
      "Nokia Q4-2012qna.mp3 File ID: f000320 - Done\n",
      "Nokia Q2-2014qna.mp3 File ID: f000330 - Done\n",
      "Nokia Q4-2014call.mp3 File ID: f000211 - Done\n",
      "Nokia Q3-2014call.mp3 File ID: f000173 - Done\n",
      "Nokia Q3-2015call.mp3 File ID: f000186 - Done\n",
      "Nokia Q4-2015call.mp3 File ID: f000189 - Done\n",
      "Nokia Q2-2014call.mp3 File ID: f000206 - Done\n",
      "Nokia Q1-2012qna.mp3 File ID: f000293 - Done\n",
      "Nokia Q3-2015qna.mp3 File ID: f000412 - Done\n",
      "Nokia Q1-2017qna.mp3 File ID: f000224 - Done\n",
      "Nokia Q4-2015qna.mp3 File ID: f000363 - Done\n",
      "Nokia Q2-2011call.mp3 File ID: f000202 - Done\n",
      "Nokia Q1-2015call.mp3 File ID: f000187 - Done\n",
      "Nokia Q2-2013qna.mp3 File ID: f000290 - Done\n",
      "Nokia Q4-2011call.mp3 File ID: f000195 - Done\n",
      "Nokia Q2-2011qna.mp3 File ID: f000263 - Done\n",
      "Nokia Q3-2011call.mp3 File ID: f000185 - Done\n",
      "Nokia Q1-2015qna.mp3 File ID: f000349 - Done\n",
      "Nokia Q3-2012qna.mp3 File ID: f000287 - Done\n",
      "Nokia Q1-2014call.mp3 File ID: f000204 - Done\n",
      "Nokia Q4-2013call.mp3 File ID: f000173 - Done\n",
      "Nokia Q3-2013call.mp3 File ID: f000214 - Done\n",
      "Nokia Q2-2015qna.mp3 File ID: f000320 - Done\n",
      "Nokia Q4-2013qna.mp3 File ID: f000304 - Done\n",
      "Nokia Q1-2011qna.mp3 File ID: f000331 - Done\n",
      "Nokia Q2-2012call.mp3 File ID: f000184 - Done\n",
      "Nokia Q4-2011qna.mp3 File ID: f000288 - Done\n",
      "Nokia Q1-2013qna.mp3 File ID: f000293 - Done\n",
      "Nokia Q1-2017call.mp3 File ID: f000185 - Done\n",
      "Nokia Q2-2013call.mp3 File ID: f000213 - Done\n",
      "Nokia Q3-2014qna.mp3 File ID: f000347 - Done\n",
      "Nokia Q3-2012call.mp3 File ID: f000200 - Done\n",
      "Nokia Q4-2012call.mp3 File ID: f000173 - Done\n",
      "Nokia Q2-2017qna.mp3 File ID: f000281 - Done\n"
     ]
    }
   ],
   "source": [
    "# path to the original mp3 file\n",
    "path = 'Nokia/process/'\n",
    "for files in os.listdir(path):\n",
    "    if files.endswith(\".mp3\"): \n",
    "        # get the complete path to the file\n",
    "        file = os.path.basename(files)\n",
    "        # by default remove white spaces from the text file name\n",
    "        text_file = (os.path.splitext(file)[0]).lower().replace(\" \", \"\")\n",
    "\n",
    "        # if there is something what needs to be removed from the name\n",
    "        # remember to write things lower case here\n",
    "        replace_strings = [\"nokia\",\"-\",\"20\"] \n",
    "        for replace_string in replace_strings:\n",
    "            if replace_string:\n",
    "                # only remove other things if stated\n",
    "                text_file = text_file.replace(replace_string, \"\")\n",
    "        # add aditional information in case something got replaced\n",
    "        text_file = \"n\" + text_file + \"\"\n",
    "\n",
    "        # create a subfolder for the original mp3 file containing the filename if the folder does not yet exist\n",
    "        process_folder = path + text_file + '/'\n",
    "        mp3_folder = process_folder + \"mp3/\"\n",
    "        if not os.path.exists(process_folder):\n",
    "            os.makedirs(process_folder) \n",
    "        if not os.path.exists(mp3_folder):\n",
    "            os.makedirs(mp3_folder)\n",
    "\n",
    "        # call the preprocessing for each mp3 file\n",
    "        processTextFileToParagraph(path, process_folder, text_file)\n",
    "        processTextFileToSentences(process_folder, text_file)\n",
    "\n",
    "        # create the json for this mp3 file\n",
    "        createJSON(path, file, process_folder, text_file)\n",
    "\n",
    "        # split the mp3 into sentences\n",
    "        createMP3withJSON(path, file, mp3_folder, process_folder, text_file)\n",
    "        "
   ]
  },
  {
   "cell_type": "code",
   "execution_count": null,
   "metadata": {
    "collapsed": true
   },
   "outputs": [],
   "source": []
  }
 ],
 "metadata": {
  "kernelspec": {
   "display_name": "Python 3",
   "language": "python",
   "name": "python3"
  },
  "language_info": {
   "codemirror_mode": {
    "name": "ipython",
    "version": 3
   },
   "file_extension": ".py",
   "mimetype": "text/x-python",
   "name": "python",
   "nbconvert_exporter": "python",
   "pygments_lexer": "ipython3",
   "version": "3.6.3"
  }
 },
 "nbformat": 4,
 "nbformat_minor": 2
}
