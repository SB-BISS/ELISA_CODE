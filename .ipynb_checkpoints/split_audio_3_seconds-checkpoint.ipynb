{
 "cells": [
  {
   "cell_type": "markdown",
   "metadata": {},
   "source": [
    "pip install pydub"
   ]
  },
  {
   "cell_type": "code",
   "execution_count": 1,
   "metadata": {
    "collapsed": true
   },
   "outputs": [],
   "source": [
    "import os\n",
    "from pydub import AudioSegment\n",
    "import sys"
   ]
  },
  {
   "cell_type": "markdown",
   "metadata": {},
   "source": [
    "### This method creates the little 3 (or something else) seconds splits of the big file"
   ]
  },
  {
   "cell_type": "code",
   "execution_count": 2,
   "metadata": {
    "collapsed": true
   },
   "outputs": [],
   "source": [
    "def splitAudio(path, file, filename, split_folder, split_interval,):\n",
    "    # set the begin time of the file\n",
    "    timeBegin = 0.0\n",
    "    # set the end time of the file\n",
    "    timeEnd = split_interval * 1000\n",
    "    # set the iterations for the filename\n",
    "    iteration = 1\n",
    "    # load the song\n",
    "    call = AudioSegment.from_mp3(path + file)\n",
    "    # loop over the file length\n",
    "    # as long as the begin time is smaller than the length of the file\n",
    "    while(timeBegin < len(call)):\n",
    "        sys.stdout.write(\"\\r\" + file + \" Iteration: \" + str(iteration))\n",
    "        sys.stdout.flush()\n",
    "        # create a little segment of the file\n",
    "        segment = call[timeBegin:timeEnd]\n",
    "        # export this segment to a new file\n",
    "        segment.export(split_folder + filename + \"_\" + str(iteration) + \".mp3\", format=\"mp3\")\n",
    "        # increase begin and end time, and interation for the next file\n",
    "        timeBegin += (split_interval * 1000)\n",
    "        timeEnd += (split_interval * 1000)\n",
    "        iteration += 1\n",
    "    print(\" - Done\")"
   ]
  },
  {
   "cell_type": "markdown",
   "metadata": {},
   "source": [
    "### state the base directory where all the mp3 files are located and loop over them\n",
    "set here the seconds split"
   ]
  },
  {
   "cell_type": "code",
   "execution_count": 23,
   "metadata": {
    "collapsed": false
   },
   "outputs": [
    {
     "name": "stdout",
     "output_type": "stream",
     "text": [
      "69\n"
     ]
    }
   ],
   "source": [
    "# state the path of the mp3 files\n",
    "path = 'D://DataElisa/PitchesAudio2/audio_final/'\n",
    "\n",
    "\n",
    "\n",
    "final_list = path\n",
    "\n",
    "print(len(final_list))\n",
    "\n",
    "\n"
   ]
  },
  {
   "cell_type": "code",
   "execution_count": 24,
   "metadata": {
    "collapsed": false,
    "scrolled": false
   },
   "outputs": [
    {
     "name": "stdout",
     "output_type": "stream",
     "text": [
      "AgroCenta_Battlefield_Africa_2017.mp3 Iteration: 212 - Done\n",
      "Bark_NY_2016.mp3 Iteration: 230 - Done\n",
      "Beam_Interactive_Disrupt_NY_2016.mp3 Iteration: 244 - Done\n",
      "BillGuard_Disrupt_NY_2011.mp3 Iteration: 274 - Done\n",
      "BioBots_Disrupt_NY_2015.mp3 Iteration: 325 - Done\n",
      "BitPagos_NY_2016.mp3 Iteration: 299 - Done\n",
      "BlazingDB_Disrupt_SF_2016.mp3 Iteration: 236 - Done\n",
      "BLITAB_Disrupt_Hardware_2017.mp3 Iteration: 332 - Done\n",
      "Bridgefy_SF_2017.mp3 Iteration: 239 - Done\n",
      "ccLoop_Disrupt_NY_2011.mp3 Iteration: 227 - Done\n",
      "Cloudwear_Disrupt_NY_2015.mp3 Iteration: 331 - Done\n",
      "CoroNet_NY_2015.mp3 Iteration: 256 - Done\n",
      "DataFox_Disrupt_SF_2014.mp3 Iteration: 238 - Done\n",
      "EatWith_Disrupt_NY_2013.mp3 Iteration: 263 - Done\n",
      "Energy Elephant_London_2015.mp3 Iteration: 239 - Done\n",
      "Enigma_Disrupt_NYC_2013.mp3 Iteration: 377 - Done\n",
      "EveryLayer_NY_2015.mp3 Iteration: 248 - Done\n",
      "Form_Battlefield_Africa_2017.mp3 Iteration: 240 - Done\n",
      "Fove_Disrupt_SF_2014.mp3 Iteration: 246 - Done\n",
      "FutureFamily_SF_2017.mp3 Iteration: 364 - Done\n",
      "Gyft_Disrupt_SF_2012.mp3 Iteration: 235 - Done\n",
      "Halo Neuroscience_Disrupt_NY_2016.mp3 Iteration: 247 - Done\n",
      "HowFactory_NY_2015.mp3 Iteration: 258 - Done\n",
      "InvoiceASAP_Disrupt_NY_2011.mp3 Iteration: 221 - Done\n",
      "Jukedeck_Disrupt_London_2015.mp3 Iteration: 371 - Done\n",
      "JumpCloud_Disrupt_SF_2013.mp3 Iteration: 240 - Done\n",
      "Karizma_Disrupt_NY_2011.mp3 Iteration: 238 - Done\n",
      "Layer_Disrupt_SF_2013.mp3 Iteration: 361 - Done\n",
      "Lia_Diagnostics_Berlin_2017.mp3 Iteration: 271 - Done\n",
      "LISNR_Disrupt_NY_2017.mp3 Iteration: 249 - Done\n",
      "Lori_Systems_Battlefield_Africa_2017.mp3 Iteration: 262 - Done\n",
      "Lystable_Disrupt_London_2015.mp3 Iteration: 368 - Done\n",
      "Matibabu_Disrupt_Hardware_2017.mp3 Iteration: 316 - Done\n",
      "MAX_London_2015.mp3 Iteration: 361 - Done\n",
      "Mink_Disrupt_NY_2014.mp3 Iteration: 365 - Done\n",
      "Mobalytics_Disrupt_SF_2016.mp3 Iteration: 373 - Done\n",
      "Monsieur_Disrupt_SF_2013.mp3 Iteration: 244 - Done\n",
      "NextCaller_Disrupt_SF_2013.mp3 Iteration: 256 - Done\n",
      "PageCloud_Disrupt_NY_2015.mp3 Iteration: 352 - Done\n",
      "Paribus_NY_2015.mp3 Iteration: 247 - Done\n",
      "PartPic_Disrupt_SF_2014.mp3 Iteration: 247 - Done\n",
      "PhenixP2P_Disrupt_London_2016.mp3 Iteration: 347 - Done\n",
      "Pillar_Disrupt_Hardware_2017.mp3 Iteration: 302 - Done\n",
      "Pi_SF_2017.mp3 Iteration: 335 - Done\n",
      "Proof_Work_Berlin_2017.mp3 Iteration: 291 - Done\n",
      "RecordGram_NY_2017.mp3 Iteration: 339 - Done\n",
      "Regalii_Disrupt_SF_2013.mp3 Iteration: 176 - Done\n",
      "Rexly_Disrupt_NY_2011.mp3 Iteration: 275 - Done\n",
      "Scoutible_Disrupt_NY_2016.mp3 Iteration: 243 - Done\n",
      "ShapeScale_Disrupt_Hardware_2017.mp3 Iteration: 294 - Done\n",
      "ShipHawk_Disrupt_NY_2013.mp3 Iteration: 257 - Done\n",
      "Shipstr_Disrupt_SF_2014.mp3 Iteration: 317 - Done\n",
      "Siren_Care_Hardware_Battlefield_2017.mp3 Iteration: 300 - Done\n",
      "Spinn_Disrupt_NY_2016.mp3 Iteration: 262 - Done\n",
      "Stack_Disrupt_SF_2014.mp3 Iteration: 257 - Done\n",
      "Stratio_Disrupt_Hardware_2017.mp3 Iteration: 271 - Done\n",
      "StyleSeat_Disrupt_NY_2011.mp3 Iteration: 282 - Done\n",
      "SynCommerce_Battlefield_Africa_2017.mp3 Iteration: 220 - Done\n",
      "Tailor_Disrupt_SF_2014.mp3 Iteration: 251 - Done\n",
      "Timelooper_Disrupt_NY_2016.mp3 Iteration: 259 - Done\n",
      "Tomorrow_Disrupt_SF_2017.mp3 Iteration: 244 - Done\n",
      "Trustev_Disrupt_NY_2013.mp3 Iteration: 204 - Done\n",
      "Vinli_Disrupt_SF_2014.mp3 Iteration: 357 - Done\n",
      "Voxel_Disrupt_SF_2013.mp3 Iteration: 250 - Done\n",
      "Vurb_Disrupt_NY_2014.mp3 Iteration: 416 - Done\n",
      "Water-O_Disrupt_NY_2016.mp3 Iteration: 283 - Done\n",
      "Weotta_Disrupt_NY_2011.mp3 Iteration: 268 - Done\n",
      "Workspot_Disrupt_NY_2013.mp3 Iteration: 274 - Done\n",
      "Yoobic_London_2015.mp3 Iteration: 384 - Done\n"
     ]
    }
   ],
   "source": [
    "# declare the size of the split\n",
    "seconds_split = 3.0\n",
    "# loop over the directory\n",
    "for f in final_list:\n",
    "    # if the file ends with mp3\n",
    "    if f.endswith(\".mp3\"): \n",
    "        # read the file\n",
    "        file = os.path.basename(f)\n",
    "        # by default remove white spaces from the text file name\n",
    "        filename = (os.path.splitext(file)[0]).lower().replace(\" \", \"\")\n",
    "        \n",
    "        # create the split folder for the small files\n",
    "        split_folder = path + \"/\" + filename + '/' + str(seconds_split) + \"secSplit/\"\n",
    "        if not os.path.exists(split_folder):\n",
    "            os.makedirs(split_folder)\n",
    "        \n",
    "        # call the function to split the audio files\n",
    "        splitAudio(path, file, filename, split_folder, seconds_split)"
   ]
  },
  {
   "cell_type": "code",
   "execution_count": 6,
   "metadata": {
    "collapsed": true
   },
   "outputs": [],
   "source": [
    "lisa= []\n",
    "\n",
    "import numpy as np\n",
    "\n"
   ]
  }
 ],
 "metadata": {
  "anaconda-cloud": {},
  "kernelspec": {
   "display_name": "Python [conda root]",
   "language": "python",
   "name": "conda-root-py"
  },
  "language_info": {
   "codemirror_mode": {
    "name": "ipython",
    "version": 2
   },
   "file_extension": ".py",
   "mimetype": "text/x-python",
   "name": "python",
   "nbconvert_exporter": "python",
   "pygments_lexer": "ipython2",
   "version": "2.7.12"
  }
 },
 "nbformat": 4,
 "nbformat_minor": 2
}
