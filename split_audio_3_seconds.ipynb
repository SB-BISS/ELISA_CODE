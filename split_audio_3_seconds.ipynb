{
 "cells": [
  {
   "cell_type": "markdown",
   "metadata": {},
   "source": [
    "pip install pydub"
   ]
  },
  {
   "cell_type": "code",
   "execution_count": 1,
   "metadata": {
    "collapsed": true
   },
   "outputs": [],
   "source": [
    "import os\n",
    "from pydub import AudioSegment\n",
    "import sys"
   ]
  },
  {
   "cell_type": "markdown",
   "metadata": {},
   "source": [
    "### This method creates the little 3 (or something else) seconds splits of the big file"
   ]
  },
  {
   "cell_type": "code",
   "execution_count": 2,
   "metadata": {
    "collapsed": true
   },
   "outputs": [],
   "source": [
    "def splitAudio(path, file, filename, split_folder, split_interval,):\n",
    "    # set the begin time of the file\n",
    "    timeBegin = 0.0\n",
    "    # set the end time of the file\n",
    "    timeEnd = split_interval * 1000\n",
    "    # set the iterations for the filename\n",
    "    iteration = 1\n",
    "    # load the song\n",
    "    call = AudioSegment.from_mp3(path + file)\n",
    "    # loop over the file length\n",
    "    # as long as the begin time is smaller than the length of the file\n",
    "    while(timeBegin < len(call)):\n",
    "        sys.stdout.write(\"\\r\" + file + \" Iteration: \" + str(iteration))\n",
    "        sys.stdout.flush()\n",
    "        # create a little segment of the file\n",
    "        segment = call[timeBegin:timeEnd]\n",
    "        # export this segment to a new file\n",
    "        segment.export(split_folder + filename + \"_\" + str(iteration) + \".mp3\", format=\"mp3\")\n",
    "        # increase begin and end time, and interation for the next file\n",
    "        timeBegin += (split_interval * 1000)\n",
    "        timeEnd += (split_interval * 1000)\n",
    "        iteration += 1\n",
    "    print(\" - Done\")"
   ]
  },
  {
   "cell_type": "markdown",
   "metadata": {},
   "source": [
    "### state the base directory where all the mp3 files are located and loop over them\n",
    "set here the seconds split"
   ]
  },
  {
   "cell_type": "code",
   "execution_count": 7,
   "metadata": {
    "collapsed": false
   },
   "outputs": [
    {
     "name": "stdout",
     "output_type": "stream",
     "text": [
      "156\n"
     ]
    }
   ],
   "source": [
    "# state the path of the mp3 files\n",
    "path = 'D://DataElisa/PitchesAudio2/audio_final/'\n",
    "pathold = 'D://DataElisa/PitchesAudio/'\n",
    "\n",
    "listpath1 = os.listdir(path)\n",
    "\n",
    "listpath2 = os.listdir(pathold)\n",
    "\n",
    "final_list = [l for l in listpath1 if l not in listpath2 and l.endswith(\".mp3\")]\n",
    "\n",
    "\n",
    "final_final_list = [l for l in listpath1 if l not in final_list]\n",
    "\n",
    "print(len(final_final_list))\n",
    "\n",
    "\n"
   ]
  },
  {
   "cell_type": "code",
   "execution_count": 8,
   "metadata": {
    "collapsed": false,
    "scrolled": false
   },
   "outputs": [
    {
     "name": "stdout",
     "output_type": "stream",
     "text": [
      "3DPrinterOS_Disrupt_SF_2016.mp3 Iteration: 222 - Done\n",
      "42_Disrupt_NY_2013.mp3 Iteration: 247 - Done\n",
      "Abacus_Invest_Battlefield_Africa_2017.mp3 Iteration: 268 - Done\n",
      "Alfred_Disrupt_SF_2014.mp3 Iteration: 334 - Done\n",
      "Amaryllis_Nucleics_Disrupt_SF_2016.mp3 Iteration: 237 - Done\n",
      "AppArchitect_Disrupt_NY_2013.mp3 Iteration: 201 - Done\n",
      "Bidzy_Disrupt_NY_2013.mp3 Iteration: 274 - Done\n",
      "Big5_Games_Battlefield_Africa_2017.mp3 Iteration: 239 - Done\n",
      "Blink_Berlin_2017.mp3 Iteration: 281 - Done\n",
      "Bloomlife_Hardware_Battlefield_2017.mp3 Iteration: 294 - Done\n",
      "Boomerang_Commerce_Disrupt_NY_2014.mp3 Iteration: 383 - Done\n",
      "Breinify_Disrupt_SF_2016.mp3 Iteration: 267 - Done\n",
      "Carbon_Health_Disrupt_SF_2016.mp3 Iteration: 249 - Done\n",
      "Caspar_Health_Berlin_2017.mp3 Iteration: 238 - Done\n",
      "Collider_Disrupt_NY_2017.mp3 Iteration: 359 - Done\n",
      "Colormass_SF_2017.mp3 Iteration: 263 - Done\n",
      "ConnectMed_Battlefield_Africa_2017.mp3 Iteration: 271 - Done\n",
      "Cota_by_Ossia_Disrupt_SF_2013.mp3 Iteration: 390 - Done\n",
      "Delivery_Science_Battlefield_Africa_2017.mp3 Iteration: 226 - Done\n",
      "Digital_Genius_Disrupt_NY_2015.mp3 Iteration: 235 - Done\n",
      "DocSend_Disrupt_NY_2014.mp3 Iteration: 246 - Done\n",
      "Domuso_NY_2017.mp3 Iteration: 388 - Done\n",
      "Donay_Disrupt_NY_2013.mp3 Iteration: 221 - Done\n",
      "Dryft_Disrupt_SF_2013.mp3 Iteration: 376 - Done\n",
      "eTrack_Tech_Berlin_2017.mp3 Iteration: 244 - Done\n",
      "EverlyWell_Disrupt_SF_2016.mp3 Iteration: 276 - Done\n",
      "Expect_Labs_Disrupt_SF_2012.mp3 Iteration: 357 - Done\n",
      "Fetch_Disrupt_NY_2014.mp3 Iteration: 255 - Done\n",
      "Floored_Disrupt_NY_2013.mp3 Iteration: 345 - Done\n",
      "Getaround_Disrupt_NYC_2011.mp3 Iteration: 250 - Done\n",
      "Giftbit_Disrupt_SF_2016.mp3 Iteration: 239 - Done\n",
      "Glide_Disrupt_NY_2013.mp3 Iteration: 409 - Done\n",
      "HealthyOut_Disrupt_NY_2013.mp3 Iteration: 402 - Done\n",
      "Houzeo_Disrupt_NY_2017.mp3 Iteration: 235 - Done\n",
      "InsideDNA_London_2016.mp3 Iteration: 346 - Done\n",
      "Intelligent_Flying_Machines_Disrupt_SF_2016.mp3 Iteration: 228 - Done\n",
      "Keen_Home_Disrupt_NY_2013.mp3 Iteration: 259 - Done\n",
      "Kloudless_Disrupt_NY_2013.mp3 Iteration: 219 - Done\n",
      "LiftIgniter_London_2016.mp3 Iteration: 357 - Done\n",
      "Liquidity_Disrupt_NY_2015.mp3 Iteration: 330 - Done\n",
      "Lit_Motors_Battlefield_Disrupt_SF_2012.mp3 Iteration: 392 - Done\n",
      "Loji_Disrupt_NY_2017.mp3 Iteration: 228 - Done\n",
      "Lomay_Battlefield_Africa_2017.mp3 Iteration: 311 - Done\n",
      "LUCY_Disrupt_SF_2016.mp3 Iteration: 228 - Done\n",
      "M-Shule_Battlefield_Africa_2017.mp3 Iteration: 238 - Done\n",
      "Matic_SF_2017.mp3 Iteration: 355 - Done\n",
      "MedRepublic_Disrupt_SF_2016.mp3 Iteration: 232 - Done\n",
      "mFluiDx_Disrupt_SF_2016.mp3 Iteration: 219 - Done\n",
      "Mimi_Disrupt_NY_2014.mp3 Iteration: 354 - Done\n",
      "Myki_Disrupt_SF_2016.mp3 Iteration: 220 - Done\n",
      "Nexla_Disrupt_NY_2017.mp3 Iteration: 250 - Done\n",
      "Nuada_SF_2017.mp3 Iteration: 240 - Done\n",
      "NuCypher_NY_2017.mp3 Iteration: 316 - Done\n",
      "Oneva_SF_2017.mp3 Iteration: 332 - Done\n",
      "Open_Garden_Disrupt_NY_2013.mp3 Iteration: 64 - Done\n",
      "Oxehealth_London_2016.mp3 Iteration: 358 - Done\n",
      "Paytap_Disrupt_SF_2012.mp3 Iteration: 225 - Done\n",
      "Prior_Knowledge_Disrupt_SF_2012.mp3 Iteration: 330 - Done\n",
      "productboard_Disrupt_SF_2016.mp3 Iteration: 241 - Done\n",
      "Pundit_Disrupt_SF_2016.mp3 Iteration: 226 - Done\n",
      "QEDit_Disrupt_Berlin_2017.mp3 Iteration: 237 - Done\n",
      "Rex_Animal_Health_Disrupt_SF_2016.mp3 Iteration: 290 - Done\n",
      "Robin_Technologies_Inc_Disrupt_SF_2016.mp3 Iteration: 252 - Done\n",
      "Saya_Mobile_Disrupt_SF_2012.mp3 Iteration: 287 - Done\n",
      "SeaDrone_Disrupt_NY_2016.mp3 Iteration: 333 - Done\n",
      "Seenit_London_2016.mp3 Iteration: 364 - Done\n",
      "Sellio_Battlefield_Africa_2017.mp3 Iteration: 296 - Done\n",
      "Sensay_Disrupt_SF_2016.mp3 Iteration: 268 - Done\n",
      "Showkit_Disrupt_NY_2014.mp3 Iteration: 343 - Done\n",
      "Slides_Disrupt_SF_2016.mp3 Iteration: 233 - Done\n",
      "Spincle_Disrupt_SF_2016.mp3 Iteration: 192 - Done\n",
      "Sqreen_Disrupt_SF_2016.mp3 Iteration: 193 - Done\n",
      "Sunrise_Health_NY_2017.mp3 Iteration: 367 - Done\n",
      "SupplyShift_Disrupt_NY_2013.mp3 Iteration: 261 - Done\n",
      "Talent2Africa_Battlefield_Africa_2017.mp3 Iteration: 275 - Done\n",
      "TallyGo_Disrupt_SF_2016.mp3 Iteration: 249 - Done\n",
      "Tango_TV_Battlefield_Africa_2017.mp3 Iteration: 228 - Done\n",
      "UnifyID_Disrupt_SF_2016.mp3 Iteration: 371 - Done\n",
      "Wandelbots_Berlin_2017.mp3 Iteration: 241 - Done\n",
      "Wazer_Disrupt_SF_2016.mp3 Iteration: 256 - Done\n",
      "WeCashUp_Battlefield_Africa_2017.mp3 Iteration: 299 - Done\n",
      "WEconnect_Disrupt_SF_2016.mp3 Iteration: 217 - Done\n",
      "WICASTR_Berlin_2017.mp3 Iteration: 257 - Done\n",
      "YourMechanic_Disrupt_SF_2012.mp3 Iteration: 328 - Done\n",
      "Zenefits_Disrupt_NY_2013.mp3 Iteration: 345 - Done\n",
      "Zumper_Disrupt_SF_2012.mp3 Iteration: 251 - Done\n"
     ]
    }
   ],
   "source": [
    "# declare the size of the split\n",
    "seconds_split = 3.0\n",
    "# loop over the directory\n",
    "for f in final_final_list:\n",
    "    # if the file ends with mp3\n",
    "    if f.endswith(\".mp3\"): \n",
    "        # read the file\n",
    "        file = os.path.basename(f)\n",
    "        # by default remove white spaces from the text file name\n",
    "        filename = (os.path.splitext(file)[0]).lower().replace(\" \", \"\")\n",
    "        \n",
    "        # create the split folder for the small files\n",
    "        split_folder = path + \"/\" + filename + '/' + str(seconds_split) + \"secSplit/\"\n",
    "        if not os.path.exists(split_folder):\n",
    "            os.makedirs(split_folder)\n",
    "        \n",
    "        # call the function to split the audio files\n",
    "        splitAudio(path, file, filename, split_folder, seconds_split)"
   ]
  },
  {
   "cell_type": "code",
   "execution_count": 6,
   "metadata": {
    "collapsed": true
   },
   "outputs": [],
   "source": [
    "lisa= []\n",
    "\n",
    "import numpy as np\n",
    "\n"
   ]
  }
 ],
 "metadata": {
  "anaconda-cloud": {},
  "kernelspec": {
   "display_name": "Python [conda root]",
   "language": "python",
   "name": "conda-root-py"
  },
  "language_info": {
   "codemirror_mode": {
    "name": "ipython",
    "version": 2
   },
   "file_extension": ".py",
   "mimetype": "text/x-python",
   "name": "python",
   "nbconvert_exporter": "python",
   "pygments_lexer": "ipython2",
   "version": "2.7.12"
  }
 },
 "nbformat": 4,
 "nbformat_minor": 2
}
