{
 "cells": [
  {
   "cell_type": "markdown",
   "metadata": {},
   "source": [
    "#### This script adds the question ID to the Q&A section of the call.\n",
    "The general structure will be companyName.YearQuartile.Q&APart.QuestionWithAnswer"
   ]
  },
  {
   "cell_type": "code",
   "execution_count": 1,
   "metadata": {
    "collapsed": true
   },
   "outputs": [],
   "source": [
    "import json\n",
    "import pandas as pd\n",
    "import sys"
   ]
  },
  {
   "cell_type": "code",
   "execution_count": 2,
   "metadata": {
    "collapsed": true
   },
   "outputs": [],
   "source": [
    "def editJSON(path, file):\n",
    "    # open the json file\n",
    "    with open(path + file + \".json\") as json_file:\n",
    "        json_object = json.load(json_file)\n",
    "        # transform the json file to a dataframe using pandas\n",
    "        df = pd.DataFrame.from_dict(json_object, orient='columns')\n",
    "        # loop over the file length\n",
    "        # as long as the begin time is smaller than the length of the file\n",
    "        QnAPartCounter = 0\n",
    "        QuestionCounter = 0\n",
    "        for sentences in df['fragments']:\n",
    "            # skip entries with 0 seconds of sound\n",
    "            if sentences['lines'][0]:\n",
    "                sys.stdout.write(\"\\r\" + sentences['sentenceMP3'] + \" File ID: \" + sentences['id'])\n",
    "                sys.stdout.flush()\n",
    "                if \"O: \" in sentences['lines'][0]:\n",
    "                    QnAPartCounter += 1\n",
    "                    QuestionCounter = 0\n",
    "                if \"Q: \" in sentences['lines'][0]:\n",
    "                    QuestionCounter += 1\n",
    "                sentences[\"question_id\"] = str(sentences['company']) + \".\" + str(sentences['yearQuartile']) + \".\" + str(QnAPartCounter) + \".\" + str(QuestionCounter)\n",
    "        with open(path + file + '_new.json', 'w') as newJson:\n",
    "            json.dump(json_object, newJson, sort_keys=True, indent=4, separators=(',', ': '))\n",
    "        print(\" - Done\")"
   ]
  },
  {
   "cell_type": "code",
   "execution_count": 3,
   "metadata": {},
   "outputs": [
    {
     "name": "stdout",
     "output_type": "stream",
     "text": [
      "JSON/btq417qna.json File ID: f000537 - Done\n"
     ]
    }
   ],
   "source": [
    "editJSON('', 'data_sentiment')"
   ]
  },
  {
   "cell_type": "code",
   "execution_count": null,
   "metadata": {
    "collapsed": true
   },
   "outputs": [],
   "source": []
  }
 ],
 "metadata": {
  "kernelspec": {
   "display_name": "Python 3",
   "language": "python",
   "name": "python3"
  },
  "language_info": {
   "codemirror_mode": {
    "name": "ipython",
    "version": 3
   },
   "file_extension": ".py",
   "mimetype": "text/x-python",
   "name": "python",
   "nbconvert_exporter": "python",
   "pygments_lexer": "ipython3",
   "version": "3.6.3"
  }
 },
 "nbformat": 4,
 "nbformat_minor": 2
}
